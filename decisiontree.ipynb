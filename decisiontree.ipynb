{
 "cells": [
  {
   "cell_type": "code",
   "execution_count": null,
   "metadata": {},
   "outputs": [],
   "source": [
    "from pyspark import SparkContext\n",
    "from pyspark.sql import SparkSession\n",
    "from pyspark.sql.functions import mean\n",
    "import numpy as np "
   ]
  },
  {
   "cell_type": "code",
   "execution_count": 2,
   "metadata": {},
   "outputs": [
    {
     "name": "stderr",
     "output_type": "stream",
     "text": [
      "24/11/05 19:37:43 WARN Utils: Your hostname, prateek-VirtualBox resolves to a loopback address: 127.0.1.1; using 192.168.202.181 instead (on interface enp0s3)\n",
      "24/11/05 19:37:43 WARN Utils: Set SPARK_LOCAL_IP if you need to bind to another address\n",
      "Setting default log level to \"WARN\".\n",
      "To adjust logging level use sc.setLogLevel(newLevel). For SparkR, use setLogLevel(newLevel).\n",
      "24/11/05 19:37:44 WARN NativeCodeLoader: Unable to load native-hadoop library for your platform... using builtin-java classes where applicable\n",
      "24/11/05 19:37:45 WARN Utils: Service 'SparkUI' could not bind on port 4040. Attempting port 4041.\n",
      "24/11/05 19:37:45 WARN Utils: Service 'SparkUI' could not bind on port 4041. Attempting port 4042.\n"
     ]
    }
   ],
   "source": [
    "sc = SparkSession.builder.appName(\"dt\").getOrCreate()"
   ]
  },
  {
   "cell_type": "code",
   "execution_count": 3,
   "metadata": {},
   "outputs": [
    {
     "name": "stderr",
     "output_type": "stream",
     "text": [
      "                                                                                \r"
     ]
    },
    {
     "name": "stdout",
     "output_type": "stream",
     "text": [
      "+------------+-----------+------------+-----------+-------+\n",
      "|sepal.length|sepal.width|petal.length|petal.width|variety|\n",
      "+------------+-----------+------------+-----------+-------+\n",
      "|         5.1|        3.5|         1.4|        0.2| Setosa|\n",
      "|         4.9|        3.0|         1.4|        0.2| Setosa|\n",
      "|         4.7|        3.2|         1.3|        0.2| Setosa|\n",
      "|         4.6|        3.1|         1.5|        0.2| Setosa|\n",
      "|         5.0|        3.6|         1.4|        0.2| Setosa|\n",
      "|         5.4|        3.9|         1.7|        0.4| Setosa|\n",
      "|         4.6|        3.4|         1.4|        0.3| Setosa|\n",
      "|         5.0|        3.4|         1.5|        0.2| Setosa|\n",
      "|         4.4|        2.9|         1.4|        0.2| Setosa|\n",
      "|         4.9|        3.1|         1.5|        0.1| Setosa|\n",
      "|         5.4|        3.7|         1.5|        0.2| Setosa|\n",
      "|         4.8|        3.4|         1.6|        0.2| Setosa|\n",
      "|         4.8|        3.0|         1.4|        0.1| Setosa|\n",
      "|         4.3|        3.0|         1.1|        0.1| Setosa|\n",
      "|         5.8|        4.0|         1.2|        0.2| Setosa|\n",
      "|         5.7|        4.4|         1.5|        0.4| Setosa|\n",
      "|         5.4|        3.9|         1.3|        0.4| Setosa|\n",
      "|         5.1|        3.5|         1.4|        0.3| Setosa|\n",
      "|         5.7|        3.8|         1.7|        0.3| Setosa|\n",
      "|         5.1|        3.8|         1.5|        0.3| Setosa|\n",
      "+------------+-----------+------------+-----------+-------+\n",
      "only showing top 20 rows\n",
      "\n"
     ]
    }
   ],
   "source": [
    "df = sc.read.csv(\"Files/iris.csv\",header=True,inferSchema=True)\n",
    "df.show()"
   ]
  },
  {
   "cell_type": "code",
   "execution_count": 4,
   "metadata": {},
   "outputs": [
    {
     "name": "stdout",
     "output_type": "stream",
     "text": [
      "+------------+-----------+------------+-----------+-------+\n",
      "|sepal_length|sepal_width|petal_length|petal_width|variety|\n",
      "+------------+-----------+------------+-----------+-------+\n",
      "|         5.1|        3.5|         1.4|        0.2| Setosa|\n",
      "|         4.9|        3.0|         1.4|        0.2| Setosa|\n",
      "|         4.7|        3.2|         1.3|        0.2| Setosa|\n",
      "|         4.6|        3.1|         1.5|        0.2| Setosa|\n",
      "|         5.0|        3.6|         1.4|        0.2| Setosa|\n",
      "|         5.4|        3.9|         1.7|        0.4| Setosa|\n",
      "|         4.6|        3.4|         1.4|        0.3| Setosa|\n",
      "|         5.0|        3.4|         1.5|        0.2| Setosa|\n",
      "|         4.4|        2.9|         1.4|        0.2| Setosa|\n",
      "|         4.9|        3.1|         1.5|        0.1| Setosa|\n",
      "|         5.4|        3.7|         1.5|        0.2| Setosa|\n",
      "|         4.8|        3.4|         1.6|        0.2| Setosa|\n",
      "|         4.8|        3.0|         1.4|        0.1| Setosa|\n",
      "|         4.3|        3.0|         1.1|        0.1| Setosa|\n",
      "|         5.8|        4.0|         1.2|        0.2| Setosa|\n",
      "|         5.7|        4.4|         1.5|        0.4| Setosa|\n",
      "|         5.4|        3.9|         1.3|        0.4| Setosa|\n",
      "|         5.1|        3.5|         1.4|        0.3| Setosa|\n",
      "|         5.7|        3.8|         1.7|        0.3| Setosa|\n",
      "|         5.1|        3.8|         1.5|        0.3| Setosa|\n",
      "+------------+-----------+------------+-----------+-------+\n",
      "only showing top 20 rows\n",
      "\n"
     ]
    }
   ],
   "source": [
    "df = df.withColumnRenamed('sepal.length','sepal_length') \\\n",
    "       .withColumnRenamed('sepal.width','sepal_width') \\\n",
    "       .withColumnRenamed('petal.length','petal_length') \\\n",
    "       .withColumnRenamed('petal.width','petal_width')\n",
    "       \n",
    "df.show()"
   ]
  },
  {
   "cell_type": "code",
   "execution_count": 15,
   "metadata": {},
   "outputs": [],
   "source": [
    "mean_sepallen = df.select(mean(df[\"sepal_length\"])).collect()[0][0]\n",
    "mean_sepalwidth = df.select(mean(df[\"sepal_width\"])).collect()[0][0]\n",
    "mean_petallen = df.select(mean(df[\"petal_length\"])).collect()[0][0]\n",
    "mean_petalwidth = df.select(mean(df[\"petal_width\"])).collect()[0][0]\n",
    "\n",
    "df = df.fillna({'sepal_length' : mean_sepallen,\n",
    "               'sepal_width' : mean_sepalwidth,\n",
    "               'petal_length' : mean_petallen,\n",
    "               'petal_width' : mean_petalwidth})\n"
   ]
  },
  {
   "cell_type": "code",
   "execution_count": 16,
   "metadata": {},
   "outputs": [
    {
     "name": "stdout",
     "output_type": "stream",
     "text": [
      "+----------+-----+\n",
      "|   variety|count|\n",
      "+----------+-----+\n",
      "| Virginica|   50|\n",
      "|    Setosa|   50|\n",
      "|Versicolor|   50|\n",
      "+----------+-----+\n",
      "\n"
     ]
    }
   ],
   "source": [
    "df.groupBy(\"variety\").count().show()"
   ]
  },
  {
   "cell_type": "code",
   "execution_count": 17,
   "metadata": {},
   "outputs": [
    {
     "data": {
      "text/plain": [
       "150"
      ]
     },
     "execution_count": 17,
     "metadata": {},
     "output_type": "execute_result"
    }
   ],
   "source": [
    "df.count()"
   ]
  },
  {
   "cell_type": "code",
   "execution_count": 18,
   "metadata": {},
   "outputs": [
    {
     "name": "stdout",
     "output_type": "stream",
     "text": [
      "root\n",
      " |-- sepal_length: double (nullable = false)\n",
      " |-- sepal_width: double (nullable = false)\n",
      " |-- petal_length: double (nullable = false)\n",
      " |-- petal_width: double (nullable = false)\n",
      " |-- variety: string (nullable = true)\n",
      "\n"
     ]
    }
   ],
   "source": [
    "df.printSchema()"
   ]
  },
  {
   "cell_type": "code",
   "execution_count": 19,
   "metadata": {},
   "outputs": [
    {
     "name": "stderr",
     "output_type": "stream",
     "text": [
      "24/11/05 19:43:04 WARN SparkStringUtils: Truncated the string representation of a plan since it was too large. This behavior can be adjusted by setting 'spark.sql.debug.maxToStringFields'.\n"
     ]
    },
    {
     "name": "stdout",
     "output_type": "stream",
     "text": [
      "+-------+------------------+-------------------+------------------+------------------+---------+\n",
      "|summary|      sepal_length|        sepal_width|      petal_length|       petal_width|  variety|\n",
      "+-------+------------------+-------------------+------------------+------------------+---------+\n",
      "|  count|               150|                150|               150|               150|      150|\n",
      "|   mean| 5.843333333333335|  3.057333333333334|3.7580000000000027| 1.199333333333334|     NULL|\n",
      "| stddev|0.8280661279778637|0.43586628493669793|1.7652982332594662|0.7622376689603467|     NULL|\n",
      "|    min|               4.3|                2.0|               1.0|               0.1|   Setosa|\n",
      "|    max|               7.9|                4.4|               6.9|               2.5|Virginica|\n",
      "+-------+------------------+-------------------+------------------+------------------+---------+\n",
      "\n"
     ]
    }
   ],
   "source": [
    "df.describe().show()"
   ]
  },
  {
   "cell_type": "code",
   "execution_count": 20,
   "metadata": {},
   "outputs": [
    {
     "data": {
      "text/plain": [
       "['sepal_length', 'sepal_width', 'petal_length', 'petal_width', 'variety']"
      ]
     },
     "execution_count": 20,
     "metadata": {},
     "output_type": "execute_result"
    }
   ],
   "source": [
    "df.columns"
   ]
  },
  {
   "cell_type": "code",
   "execution_count": 21,
   "metadata": {},
   "outputs": [],
   "source": [
    "from pyspark.ml.feature import OneHotEncoder, StringIndexer"
   ]
  },
  {
   "cell_type": "code",
   "execution_count": 22,
   "metadata": {},
   "outputs": [],
   "source": [
    "indexer = StringIndexer(inputCol=\"variety\",outputCol=\"indexed_variety\")\n",
    "indexmodel = indexer.fit(df)"
   ]
  },
  {
   "cell_type": "code",
   "execution_count": 23,
   "metadata": {},
   "outputs": [],
   "source": [
    "indexdf = indexmodel.transform(df)"
   ]
  },
  {
   "cell_type": "code",
   "execution_count": 24,
   "metadata": {},
   "outputs": [
    {
     "name": "stdout",
     "output_type": "stream",
     "text": [
      "+------------+-----------+------------+-----------+-------+---------------+\n",
      "|sepal_length|sepal_width|petal_length|petal_width|variety|indexed_variety|\n",
      "+------------+-----------+------------+-----------+-------+---------------+\n",
      "|         5.1|        3.5|         1.4|        0.2| Setosa|            0.0|\n",
      "|         4.9|        3.0|         1.4|        0.2| Setosa|            0.0|\n",
      "|         4.7|        3.2|         1.3|        0.2| Setosa|            0.0|\n",
      "|         4.6|        3.1|         1.5|        0.2| Setosa|            0.0|\n",
      "|         5.0|        3.6|         1.4|        0.2| Setosa|            0.0|\n",
      "|         5.4|        3.9|         1.7|        0.4| Setosa|            0.0|\n",
      "|         4.6|        3.4|         1.4|        0.3| Setosa|            0.0|\n",
      "|         5.0|        3.4|         1.5|        0.2| Setosa|            0.0|\n",
      "|         4.4|        2.9|         1.4|        0.2| Setosa|            0.0|\n",
      "|         4.9|        3.1|         1.5|        0.1| Setosa|            0.0|\n",
      "|         5.4|        3.7|         1.5|        0.2| Setosa|            0.0|\n",
      "|         4.8|        3.4|         1.6|        0.2| Setosa|            0.0|\n",
      "|         4.8|        3.0|         1.4|        0.1| Setosa|            0.0|\n",
      "|         4.3|        3.0|         1.1|        0.1| Setosa|            0.0|\n",
      "|         5.8|        4.0|         1.2|        0.2| Setosa|            0.0|\n",
      "|         5.7|        4.4|         1.5|        0.4| Setosa|            0.0|\n",
      "|         5.4|        3.9|         1.3|        0.4| Setosa|            0.0|\n",
      "|         5.1|        3.5|         1.4|        0.3| Setosa|            0.0|\n",
      "|         5.7|        3.8|         1.7|        0.3| Setosa|            0.0|\n",
      "|         5.1|        3.8|         1.5|        0.3| Setosa|            0.0|\n",
      "+------------+-----------+------------+-----------+-------+---------------+\n",
      "only showing top 20 rows\n",
      "\n"
     ]
    }
   ],
   "source": [
    "indexdf.show()"
   ]
  },
  {
   "cell_type": "code",
   "execution_count": 27,
   "metadata": {},
   "outputs": [
    {
     "name": "stdout",
     "output_type": "stream",
     "text": [
      "+------------+-----------+------------+-----------+-------+---------------+--------------+\n",
      "|sepal_length|sepal_width|petal_length|petal_width|variety|indexed_variety|onehot_variety|\n",
      "+------------+-----------+------------+-----------+-------+---------------+--------------+\n",
      "|         5.1|        3.5|         1.4|        0.2| Setosa|            0.0| (2,[0],[1.0])|\n",
      "|         4.9|        3.0|         1.4|        0.2| Setosa|            0.0| (2,[0],[1.0])|\n",
      "|         4.7|        3.2|         1.3|        0.2| Setosa|            0.0| (2,[0],[1.0])|\n",
      "|         4.6|        3.1|         1.5|        0.2| Setosa|            0.0| (2,[0],[1.0])|\n",
      "|         5.0|        3.6|         1.4|        0.2| Setosa|            0.0| (2,[0],[1.0])|\n",
      "|         5.4|        3.9|         1.7|        0.4| Setosa|            0.0| (2,[0],[1.0])|\n",
      "|         4.6|        3.4|         1.4|        0.3| Setosa|            0.0| (2,[0],[1.0])|\n",
      "|         5.0|        3.4|         1.5|        0.2| Setosa|            0.0| (2,[0],[1.0])|\n",
      "|         4.4|        2.9|         1.4|        0.2| Setosa|            0.0| (2,[0],[1.0])|\n",
      "|         4.9|        3.1|         1.5|        0.1| Setosa|            0.0| (2,[0],[1.0])|\n",
      "|         5.4|        3.7|         1.5|        0.2| Setosa|            0.0| (2,[0],[1.0])|\n",
      "|         4.8|        3.4|         1.6|        0.2| Setosa|            0.0| (2,[0],[1.0])|\n",
      "|         4.8|        3.0|         1.4|        0.1| Setosa|            0.0| (2,[0],[1.0])|\n",
      "|         4.3|        3.0|         1.1|        0.1| Setosa|            0.0| (2,[0],[1.0])|\n",
      "|         5.8|        4.0|         1.2|        0.2| Setosa|            0.0| (2,[0],[1.0])|\n",
      "|         5.7|        4.4|         1.5|        0.4| Setosa|            0.0| (2,[0],[1.0])|\n",
      "|         5.4|        3.9|         1.3|        0.4| Setosa|            0.0| (2,[0],[1.0])|\n",
      "|         5.1|        3.5|         1.4|        0.3| Setosa|            0.0| (2,[0],[1.0])|\n",
      "|         5.7|        3.8|         1.7|        0.3| Setosa|            0.0| (2,[0],[1.0])|\n",
      "|         5.1|        3.8|         1.5|        0.3| Setosa|            0.0| (2,[0],[1.0])|\n",
      "+------------+-----------+------------+-----------+-------+---------------+--------------+\n",
      "only showing top 20 rows\n",
      "\n"
     ]
    }
   ],
   "source": [
    "encoder = OneHotEncoder(inputCol=\"indexed_variety\",outputCol=\"onehot_variety\")\n",
    "encoded_model = encoder.fit(indexdf)\n",
    "encoded_df = encoded_model.transform(indexdf)\n",
    "encoded_df.show()"
   ]
  },
  {
   "cell_type": "code",
   "execution_count": 25,
   "metadata": {},
   "outputs": [],
   "source": [
    "from pyspark.ml.feature import VectorAssembler"
   ]
  },
  {
   "cell_type": "code",
   "execution_count": 28,
   "metadata": {},
   "outputs": [
    {
     "data": {
      "text/plain": [
       "['sepal_length',\n",
       " 'sepal_width',\n",
       " 'petal_length',\n",
       " 'petal_width',\n",
       " 'variety',\n",
       " 'indexed_variety',\n",
       " 'onehot_variety']"
      ]
     },
     "execution_count": 28,
     "metadata": {},
     "output_type": "execute_result"
    }
   ],
   "source": [
    "encoded_df.columns"
   ]
  },
  {
   "cell_type": "code",
   "execution_count": 29,
   "metadata": {},
   "outputs": [],
   "source": [
    "assembler = VectorAssembler(inputCols=['sepal_length',\n",
    "                                       'sepal_width',\n",
    "                                       'petal_length',\n",
    "                                       'petal_width'],outputCol=\"features\")"
   ]
  },
  {
   "cell_type": "code",
   "execution_count": 30,
   "metadata": {},
   "outputs": [
    {
     "name": "stdout",
     "output_type": "stream",
     "text": [
      "+------------+-----------+------------+-----------+-------+---------------+--------------+-----------------+\n",
      "|sepal_length|sepal_width|petal_length|petal_width|variety|indexed_variety|onehot_variety|         features|\n",
      "+------------+-----------+------------+-----------+-------+---------------+--------------+-----------------+\n",
      "|         5.1|        3.5|         1.4|        0.2| Setosa|            0.0| (2,[0],[1.0])|[5.1,3.5,1.4,0.2]|\n",
      "|         4.9|        3.0|         1.4|        0.2| Setosa|            0.0| (2,[0],[1.0])|[4.9,3.0,1.4,0.2]|\n",
      "|         4.7|        3.2|         1.3|        0.2| Setosa|            0.0| (2,[0],[1.0])|[4.7,3.2,1.3,0.2]|\n",
      "|         4.6|        3.1|         1.5|        0.2| Setosa|            0.0| (2,[0],[1.0])|[4.6,3.1,1.5,0.2]|\n",
      "|         5.0|        3.6|         1.4|        0.2| Setosa|            0.0| (2,[0],[1.0])|[5.0,3.6,1.4,0.2]|\n",
      "|         5.4|        3.9|         1.7|        0.4| Setosa|            0.0| (2,[0],[1.0])|[5.4,3.9,1.7,0.4]|\n",
      "|         4.6|        3.4|         1.4|        0.3| Setosa|            0.0| (2,[0],[1.0])|[4.6,3.4,1.4,0.3]|\n",
      "|         5.0|        3.4|         1.5|        0.2| Setosa|            0.0| (2,[0],[1.0])|[5.0,3.4,1.5,0.2]|\n",
      "|         4.4|        2.9|         1.4|        0.2| Setosa|            0.0| (2,[0],[1.0])|[4.4,2.9,1.4,0.2]|\n",
      "|         4.9|        3.1|         1.5|        0.1| Setosa|            0.0| (2,[0],[1.0])|[4.9,3.1,1.5,0.1]|\n",
      "|         5.4|        3.7|         1.5|        0.2| Setosa|            0.0| (2,[0],[1.0])|[5.4,3.7,1.5,0.2]|\n",
      "|         4.8|        3.4|         1.6|        0.2| Setosa|            0.0| (2,[0],[1.0])|[4.8,3.4,1.6,0.2]|\n",
      "|         4.8|        3.0|         1.4|        0.1| Setosa|            0.0| (2,[0],[1.0])|[4.8,3.0,1.4,0.1]|\n",
      "|         4.3|        3.0|         1.1|        0.1| Setosa|            0.0| (2,[0],[1.0])|[4.3,3.0,1.1,0.1]|\n",
      "|         5.8|        4.0|         1.2|        0.2| Setosa|            0.0| (2,[0],[1.0])|[5.8,4.0,1.2,0.2]|\n",
      "|         5.7|        4.4|         1.5|        0.4| Setosa|            0.0| (2,[0],[1.0])|[5.7,4.4,1.5,0.4]|\n",
      "|         5.4|        3.9|         1.3|        0.4| Setosa|            0.0| (2,[0],[1.0])|[5.4,3.9,1.3,0.4]|\n",
      "|         5.1|        3.5|         1.4|        0.3| Setosa|            0.0| (2,[0],[1.0])|[5.1,3.5,1.4,0.3]|\n",
      "|         5.7|        3.8|         1.7|        0.3| Setosa|            0.0| (2,[0],[1.0])|[5.7,3.8,1.7,0.3]|\n",
      "|         5.1|        3.8|         1.5|        0.3| Setosa|            0.0| (2,[0],[1.0])|[5.1,3.8,1.5,0.3]|\n",
      "+------------+-----------+------------+-----------+-------+---------------+--------------+-----------------+\n",
      "only showing top 20 rows\n",
      "\n"
     ]
    }
   ],
   "source": [
    "assembled_df = assembler.transform(encoded_df)\n",
    "assembled_df.show()"
   ]
  },
  {
   "cell_type": "code",
   "execution_count": 31,
   "metadata": {},
   "outputs": [
    {
     "name": "stdout",
     "output_type": "stream",
     "text": [
      "+---------------+-----------------+\n",
      "|indexed_variety|         features|\n",
      "+---------------+-----------------+\n",
      "|            0.0|[5.1,3.5,1.4,0.2]|\n",
      "|            0.0|[4.9,3.0,1.4,0.2]|\n",
      "|            0.0|[4.7,3.2,1.3,0.2]|\n",
      "|            0.0|[4.6,3.1,1.5,0.2]|\n",
      "|            0.0|[5.0,3.6,1.4,0.2]|\n",
      "|            0.0|[5.4,3.9,1.7,0.4]|\n",
      "|            0.0|[4.6,3.4,1.4,0.3]|\n",
      "|            0.0|[5.0,3.4,1.5,0.2]|\n",
      "|            0.0|[4.4,2.9,1.4,0.2]|\n",
      "|            0.0|[4.9,3.1,1.5,0.1]|\n",
      "|            0.0|[5.4,3.7,1.5,0.2]|\n",
      "|            0.0|[4.8,3.4,1.6,0.2]|\n",
      "|            0.0|[4.8,3.0,1.4,0.1]|\n",
      "|            0.0|[4.3,3.0,1.1,0.1]|\n",
      "|            0.0|[5.8,4.0,1.2,0.2]|\n",
      "|            0.0|[5.7,4.4,1.5,0.4]|\n",
      "|            0.0|[5.4,3.9,1.3,0.4]|\n",
      "|            0.0|[5.1,3.5,1.4,0.3]|\n",
      "|            0.0|[5.7,3.8,1.7,0.3]|\n",
      "|            0.0|[5.1,3.8,1.5,0.3]|\n",
      "+---------------+-----------------+\n",
      "only showing top 20 rows\n",
      "\n"
     ]
    }
   ],
   "source": [
    "assembled_df.select('indexed_variety','features').show()"
   ]
  },
  {
   "cell_type": "code",
   "execution_count": 32,
   "metadata": {},
   "outputs": [],
   "source": [
    "final_df = assembled_df.select('indexed_variety','features')"
   ]
  },
  {
   "cell_type": "code",
   "execution_count": 35,
   "metadata": {},
   "outputs": [],
   "source": [
    "train_data, test_data = final_df.randomSplit([0.8,0.2])"
   ]
  },
  {
   "cell_type": "code",
   "execution_count": 36,
   "metadata": {},
   "outputs": [
    {
     "data": {
      "text/plain": [
       "(113, 37)"
      ]
     },
     "execution_count": 36,
     "metadata": {},
     "output_type": "execute_result"
    }
   ],
   "source": [
    "train_data.count(), test_data.count()"
   ]
  },
  {
   "cell_type": "code",
   "execution_count": 42,
   "metadata": {},
   "outputs": [],
   "source": [
    "from pyspark.ml.classification import DecisionTreeClassifier\n",
    "from pyspark.ml.evaluation import MulticlassClassificationEvaluator\n",
    "from pyspark.ml.tuning import ParamGridBuilder,CrossValidator\n"
   ]
  },
  {
   "cell_type": "code",
   "execution_count": 43,
   "metadata": {},
   "outputs": [],
   "source": [
    "df_classifier = DecisionTreeClassifier(labelCol=\"indexed_variety\",\n",
    "                                       featuresCol=\"features\")"
   ]
  },
  {
   "cell_type": "code",
   "execution_count": 44,
   "metadata": {},
   "outputs": [],
   "source": [
    "paramgrid = ParamGridBuilder() \\\n",
    "    .addGrid(df_classifier.maxDepth, [2,5,10]) \\\n",
    "        .addGrid(df_classifier.minInstancesPerNode, [1,2,4]) \\\n",
    "            .addGrid(df_classifier.maxBins, [10,20,30]) \\\n",
    "                .addGrid(df_classifier.minInfoGain, [0.1,0.2,0.3]) \\\n",
    "                    .addGrid(df_classifier.impurity, ['gini','entropy']) \\\n",
    "                        .build()"
   ]
  },
  {
   "cell_type": "code",
   "execution_count": 51,
   "metadata": {},
   "outputs": [],
   "source": [
    "evaluator = MulticlassClassificationEvaluator(\n",
    "    labelCol=\"indexed_variety\",\n",
    "    metricName=\"accuracy\"\n",
    ")"
   ]
  },
  {
   "cell_type": "code",
   "execution_count": 52,
   "metadata": {},
   "outputs": [],
   "source": [
    "crossval = CrossValidator(\n",
    "    estimator=df_classifier,\n",
    "    estimatorParamMaps=paramgrid,\n",
    "    evaluator=evaluator,\n",
    "    numFolds=3\n",
    ")"
   ]
  },
  {
   "cell_type": "code",
   "execution_count": 53,
   "metadata": {},
   "outputs": [
    {
     "name": "stderr",
     "output_type": "stream",
     "text": [
      "24/11/05 19:55:36 WARN CacheManager: Asked to cache already cached data.\n",
      "24/11/05 19:55:36 WARN CacheManager: Asked to cache already cached data.\n"
     ]
    }
   ],
   "source": [
    "cv = crossval.fit(train_data)"
   ]
  },
  {
   "cell_type": "code",
   "execution_count": 54,
   "metadata": {},
   "outputs": [
    {
     "data": {
      "text/plain": [
       "DecisionTreeClassificationModel: uid=DecisionTreeClassifier_633bd44e379e, depth=2, numNodes=5, numClasses=3, numFeatures=4"
      ]
     },
     "execution_count": 54,
     "metadata": {},
     "output_type": "execute_result"
    }
   ],
   "source": [
    "cv.bestModel"
   ]
  },
  {
   "cell_type": "code",
   "execution_count": 55,
   "metadata": {},
   "outputs": [
    {
     "name": "stdout",
     "output_type": "stream",
     "text": [
      "+---------------+-----------------+--------------+--------------------+----------+\n",
      "|indexed_variety|         features| rawPrediction|         probability|prediction|\n",
      "+---------------+-----------------+--------------+--------------------+----------+\n",
      "|            0.0|[4.6,3.4,1.4,0.3]|[34.0,0.0,0.0]|       [1.0,0.0,0.0]|       0.0|\n",
      "|            0.0|[4.6,3.6,1.0,0.2]|[34.0,0.0,0.0]|       [1.0,0.0,0.0]|       0.0|\n",
      "|            0.0|[4.7,3.2,1.6,0.2]|[34.0,0.0,0.0]|       [1.0,0.0,0.0]|       0.0|\n",
      "|            0.0|[4.8,3.0,1.4,0.1]|[34.0,0.0,0.0]|       [1.0,0.0,0.0]|       0.0|\n",
      "|            0.0|[4.8,3.0,1.4,0.3]|[34.0,0.0,0.0]|       [1.0,0.0,0.0]|       0.0|\n",
      "|            0.0|[4.8,3.4,1.9,0.2]|[34.0,0.0,0.0]|       [1.0,0.0,0.0]|       0.0|\n",
      "|            0.0|[4.9,3.0,1.4,0.2]|[34.0,0.0,0.0]|       [1.0,0.0,0.0]|       0.0|\n",
      "|            0.0|[4.9,3.1,1.5,0.2]|[34.0,0.0,0.0]|       [1.0,0.0,0.0]|       0.0|\n",
      "|            0.0|[4.9,3.6,1.4,0.1]|[34.0,0.0,0.0]|       [1.0,0.0,0.0]|       0.0|\n",
      "|            0.0|[5.0,3.5,1.3,0.3]|[34.0,0.0,0.0]|       [1.0,0.0,0.0]|       0.0|\n",
      "|            0.0|[5.1,3.4,1.5,0.2]|[34.0,0.0,0.0]|       [1.0,0.0,0.0]|       0.0|\n",
      "|            0.0|[5.1,3.8,1.5,0.3]|[34.0,0.0,0.0]|       [1.0,0.0,0.0]|       0.0|\n",
      "|            0.0|[5.1,3.8,1.9,0.4]|[34.0,0.0,0.0]|       [1.0,0.0,0.0]|       0.0|\n",
      "|            0.0|[5.2,4.1,1.5,0.1]|[34.0,0.0,0.0]|       [1.0,0.0,0.0]|       0.0|\n",
      "|            1.0|[5.5,2.3,4.0,1.3]|[2.0,33.0,2.0]|[0.05405405405405...|       1.0|\n",
      "|            1.0|[5.5,2.5,4.0,1.3]|[2.0,33.0,2.0]|[0.05405405405405...|       1.0|\n",
      "|            1.0|[5.6,2.9,3.6,1.3]|[2.0,33.0,2.0]|[0.05405405405405...|       1.0|\n",
      "|            1.0|[5.6,3.0,4.1,1.3]|[2.0,33.0,2.0]|[0.05405405405405...|       1.0|\n",
      "|            1.0|[5.7,2.8,4.1,1.3]|[2.0,33.0,2.0]|[0.05405405405405...|       1.0|\n",
      "|            1.0|[5.7,2.9,4.2,1.3]|[2.0,33.0,2.0]|[0.05405405405405...|       1.0|\n",
      "+---------------+-----------------+--------------+--------------------+----------+\n",
      "only showing top 20 rows\n",
      "\n"
     ]
    }
   ],
   "source": [
    "predictions = cv.bestModel.transform(test_data)\n",
    "predictions.show()"
   ]
  },
  {
   "cell_type": "code",
   "execution_count": 56,
   "metadata": {},
   "outputs": [],
   "source": [
    "accruacy = MulticlassClassificationEvaluator(labelCol=\"indexed_variety\",\n",
    "                                             metricName=\"accuracy\").evaluate(predictions)\n",
    "\n",
    "precision = MulticlassClassificationEvaluator(labelCol=\"indexed_variety\",\n",
    "                                             metricName=\"weightedPrecision\").evaluate(predictions)"
   ]
  },
  {
   "cell_type": "code",
   "execution_count": 57,
   "metadata": {},
   "outputs": [
    {
     "data": {
      "text/plain": [
       "(0.8918918918918919, 0.903950103950104)"
      ]
     },
     "execution_count": 57,
     "metadata": {},
     "output_type": "execute_result"
    }
   ],
   "source": [
    "accruacy,precision"
   ]
  },
  {
   "cell_type": "code",
   "execution_count": 60,
   "metadata": {},
   "outputs": [
    {
     "data": {
      "text/plain": [
       "SparseVector(4, {3: 1.0})"
      ]
     },
     "execution_count": 60,
     "metadata": {},
     "output_type": "execute_result"
    }
   ],
   "source": [
    "cv.bestModel.featureImportances"
   ]
  },
  {
   "cell_type": "code",
   "execution_count": 61,
   "metadata": {},
   "outputs": [],
   "source": [
    "auc = MulticlassClassificationEvaluator(labelCol=\"indexed_variety\").evaluate(predictions)"
   ]
  },
  {
   "cell_type": "code",
   "execution_count": 62,
   "metadata": {},
   "outputs": [
    {
     "data": {
      "text/plain": [
       "0.894036894036894"
      ]
     },
     "execution_count": 62,
     "metadata": {},
     "output_type": "execute_result"
    }
   ],
   "source": [
    "auc"
   ]
  },
  {
   "cell_type": "code",
   "execution_count": 74,
   "metadata": {},
   "outputs": [
    {
     "name": "stdout",
     "output_type": "stream",
     "text": [
      "<bound method _DecisionTreeParams.getMaxBins of DecisionTreeClassificationModel: uid=DecisionTreeClassifier_633bd44e379e, depth=2, numNodes=5, numClasses=3, numFeatures=4>\n",
      "DecisionTreeClassifier_633bd44e379e__maxDepth\n",
      "<bound method _TreeClassifierParams.getImpurity of DecisionTreeClassificationModel: uid=DecisionTreeClassifier_633bd44e379e, depth=2, numNodes=5, numClasses=3, numFeatures=4>\n",
      "<bound method _DecisionTreeParams.getMinInfoGain of DecisionTreeClassificationModel: uid=DecisionTreeClassifier_633bd44e379e, depth=2, numNodes=5, numClasses=3, numFeatures=4>\n"
     ]
    }
   ],
   "source": [
    "print(cv.bestModel.getMaxBins)\n",
    "print(cv.bestModel.maxDepth)\n",
    "print(cv.bestModel.getImpurity)\n",
    "print(cv.bestModel.getMinInfoGain)"
   ]
  },
  {
   "cell_type": "code",
   "execution_count": null,
   "metadata": {},
   "outputs": [],
   "source": []
  }
 ],
 "metadata": {
  "kernelspec": {
   "display_name": "newenv",
   "language": "python",
   "name": "python3"
  },
  "language_info": {
   "codemirror_mode": {
    "name": "ipython",
    "version": 3
   },
   "file_extension": ".py",
   "mimetype": "text/x-python",
   "name": "python",
   "nbconvert_exporter": "python",
   "pygments_lexer": "ipython3",
   "version": "3.12.3"
  }
 },
 "nbformat": 4,
 "nbformat_minor": 2
}
