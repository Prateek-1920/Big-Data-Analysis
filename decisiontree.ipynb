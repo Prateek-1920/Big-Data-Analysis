{
 "cells": [
  {
   "cell_type": "code",
   "execution_count": 38,
   "metadata": {},
   "outputs": [],
   "source": [
    "from pyspark import SparkContext\n",
    "from pyspark.sql import SparkSession\n",
    "import numpy as np "
   ]
  },
  {
   "cell_type": "code",
   "execution_count": 39,
   "metadata": {},
   "outputs": [],
   "source": [
    "sc = SparkSession.builder.appName(\"dt\").getOrCreate()"
   ]
  },
  {
   "cell_type": "code",
   "execution_count": 40,
   "metadata": {},
   "outputs": [
    {
     "name": "stdout",
     "output_type": "stream",
     "text": [
      "+------------+-----------+------------+-----------+-------+\n",
      "|sepal.length|sepal.width|petal.length|petal.width|variety|\n",
      "+------------+-----------+------------+-----------+-------+\n",
      "|         5.1|        3.5|         1.4|        0.2| Setosa|\n",
      "|         4.9|        3.0|         1.4|        0.2| Setosa|\n",
      "|         4.7|        3.2|         1.3|        0.2| Setosa|\n",
      "|         4.6|        3.1|         1.5|        0.2| Setosa|\n",
      "|         5.0|        3.6|         1.4|        0.2| Setosa|\n",
      "|         5.4|        3.9|         1.7|        0.4| Setosa|\n",
      "|         4.6|        3.4|         1.4|        0.3| Setosa|\n",
      "|         5.0|        3.4|         1.5|        0.2| Setosa|\n",
      "|         4.4|        2.9|         1.4|        0.2| Setosa|\n",
      "|         4.9|        3.1|         1.5|        0.1| Setosa|\n",
      "|         5.4|        3.7|         1.5|        0.2| Setosa|\n",
      "|         4.8|        3.4|         1.6|        0.2| Setosa|\n",
      "|         4.8|        3.0|         1.4|        0.1| Setosa|\n",
      "|         4.3|        3.0|         1.1|        0.1| Setosa|\n",
      "|         5.8|        4.0|         1.2|        0.2| Setosa|\n",
      "|         5.7|        4.4|         1.5|        0.4| Setosa|\n",
      "|         5.4|        3.9|         1.3|        0.4| Setosa|\n",
      "|         5.1|        3.5|         1.4|        0.3| Setosa|\n",
      "|         5.7|        3.8|         1.7|        0.3| Setosa|\n",
      "|         5.1|        3.8|         1.5|        0.3| Setosa|\n",
      "+------------+-----------+------------+-----------+-------+\n",
      "only showing top 20 rows\n",
      "\n"
     ]
    }
   ],
   "source": [
    "df = sc.read.csv(\"Files/iris.csv\",header=True,inferSchema=True)\n",
    "df.show()"
   ]
  },
  {
   "cell_type": "code",
   "execution_count": 44,
   "metadata": {},
   "outputs": [
    {
     "name": "stdout",
     "output_type": "stream",
     "text": [
      "+------------+-----------+------------+-----------+-------+\n",
      "|sepal_length|sepal_width|petal_length|petal_width|variety|\n",
      "+------------+-----------+------------+-----------+-------+\n",
      "|         5.1|        3.5|         1.4|        0.2| Setosa|\n",
      "|         4.9|        3.0|         1.4|        0.2| Setosa|\n",
      "|         4.7|        3.2|         1.3|        0.2| Setosa|\n",
      "|         4.6|        3.1|         1.5|        0.2| Setosa|\n",
      "|         5.0|        3.6|         1.4|        0.2| Setosa|\n",
      "|         5.4|        3.9|         1.7|        0.4| Setosa|\n",
      "|         4.6|        3.4|         1.4|        0.3| Setosa|\n",
      "|         5.0|        3.4|         1.5|        0.2| Setosa|\n",
      "|         4.4|        2.9|         1.4|        0.2| Setosa|\n",
      "|         4.9|        3.1|         1.5|        0.1| Setosa|\n",
      "|         5.4|        3.7|         1.5|        0.2| Setosa|\n",
      "|         4.8|        3.4|         1.6|        0.2| Setosa|\n",
      "|         4.8|        3.0|         1.4|        0.1| Setosa|\n",
      "|         4.3|        3.0|         1.1|        0.1| Setosa|\n",
      "|         5.8|        4.0|         1.2|        0.2| Setosa|\n",
      "|         5.7|        4.4|         1.5|        0.4| Setosa|\n",
      "|         5.4|        3.9|         1.3|        0.4| Setosa|\n",
      "|         5.1|        3.5|         1.4|        0.3| Setosa|\n",
      "|         5.7|        3.8|         1.7|        0.3| Setosa|\n",
      "|         5.1|        3.8|         1.5|        0.3| Setosa|\n",
      "+------------+-----------+------------+-----------+-------+\n",
      "only showing top 20 rows\n",
      "\n"
     ]
    }
   ],
   "source": [
    "df = df.withColumnRenamed('sepal.length','sepal_length') \\\n",
    "       .withColumnRenamed('sepal.width','sepal_width') \\\n",
    "       .withColumnRenamed('petal.length','petal_length') \\\n",
    "       .withColumnRenamed('petal.width','petal_width')\n",
    "       \n",
    "df.show()"
   ]
  },
  {
   "cell_type": "code",
   "execution_count": 45,
   "metadata": {},
   "outputs": [
    {
     "name": "stdout",
     "output_type": "stream",
     "text": [
      "+----------+-----+\n",
      "|   variety|count|\n",
      "+----------+-----+\n",
      "| Virginica|   50|\n",
      "|    Setosa|   50|\n",
      "|Versicolor|   50|\n",
      "+----------+-----+\n",
      "\n"
     ]
    }
   ],
   "source": [
    "df.groupBy(\"variety\").count().show()"
   ]
  },
  {
   "cell_type": "code",
   "execution_count": 46,
   "metadata": {},
   "outputs": [
    {
     "data": {
      "text/plain": [
       "150"
      ]
     },
     "execution_count": 46,
     "metadata": {},
     "output_type": "execute_result"
    }
   ],
   "source": [
    "df.count()"
   ]
  },
  {
   "cell_type": "code",
   "execution_count": 47,
   "metadata": {},
   "outputs": [
    {
     "name": "stdout",
     "output_type": "stream",
     "text": [
      "root\n",
      " |-- sepal_length: double (nullable = true)\n",
      " |-- sepal_width: double (nullable = true)\n",
      " |-- petal_length: double (nullable = true)\n",
      " |-- petal_width: double (nullable = true)\n",
      " |-- variety: string (nullable = true)\n",
      "\n"
     ]
    }
   ],
   "source": [
    "df.printSchema()"
   ]
  },
  {
   "cell_type": "code",
   "execution_count": 49,
   "metadata": {},
   "outputs": [
    {
     "name": "stderr",
     "output_type": "stream",
     "text": [
      "24/11/01 15:50:15 WARN SparkStringUtils: Truncated the string representation of a plan since it was too large. This behavior can be adjusted by setting 'spark.sql.debug.maxToStringFields'.\n"
     ]
    },
    {
     "name": "stdout",
     "output_type": "stream",
     "text": [
      "+-------+------------------+-------------------+------------------+------------------+---------+\n",
      "|summary|      sepal_length|        sepal_width|      petal_length|       petal_width|  variety|\n",
      "+-------+------------------+-------------------+------------------+------------------+---------+\n",
      "|  count|               150|                150|               150|               150|      150|\n",
      "|   mean| 5.843333333333335|  3.057333333333334|3.7580000000000027| 1.199333333333334|     NULL|\n",
      "| stddev|0.8280661279778637|0.43586628493669793|1.7652982332594662|0.7622376689603467|     NULL|\n",
      "|    min|               4.3|                2.0|               1.0|               0.1|   Setosa|\n",
      "|    max|               7.9|                4.4|               6.9|               2.5|Virginica|\n",
      "+-------+------------------+-------------------+------------------+------------------+---------+\n",
      "\n"
     ]
    }
   ],
   "source": [
    "df.describe().show()"
   ]
  },
  {
   "cell_type": "code",
   "execution_count": 50,
   "metadata": {},
   "outputs": [
    {
     "data": {
      "text/plain": [
       "['sepal_length', 'sepal_width', 'petal_length', 'petal_width', 'variety']"
      ]
     },
     "execution_count": 50,
     "metadata": {},
     "output_type": "execute_result"
    }
   ],
   "source": [
    "df.columns"
   ]
  },
  {
   "cell_type": "code",
   "execution_count": 51,
   "metadata": {},
   "outputs": [],
   "source": [
    "from pyspark.ml.feature import OneHotEncoder, StringIndexer"
   ]
  },
  {
   "cell_type": "code",
   "execution_count": 52,
   "metadata": {},
   "outputs": [],
   "source": [
    "indexer = StringIndexer(inputCol=\"variety\",outputCol=\"indexed_variety\")\n",
    "indexmodel = indexer.fit(df)"
   ]
  },
  {
   "cell_type": "code",
   "execution_count": 53,
   "metadata": {},
   "outputs": [],
   "source": [
    "indexdf = indexmodel.transform(df)"
   ]
  },
  {
   "cell_type": "code",
   "execution_count": 54,
   "metadata": {},
   "outputs": [
    {
     "name": "stdout",
     "output_type": "stream",
     "text": [
      "+------------+-----------+------------+-----------+-------+---------------+\n",
      "|sepal_length|sepal_width|petal_length|petal_width|variety|indexed_variety|\n",
      "+------------+-----------+------------+-----------+-------+---------------+\n",
      "|         5.1|        3.5|         1.4|        0.2| Setosa|            0.0|\n",
      "|         4.9|        3.0|         1.4|        0.2| Setosa|            0.0|\n",
      "|         4.7|        3.2|         1.3|        0.2| Setosa|            0.0|\n",
      "|         4.6|        3.1|         1.5|        0.2| Setosa|            0.0|\n",
      "|         5.0|        3.6|         1.4|        0.2| Setosa|            0.0|\n",
      "|         5.4|        3.9|         1.7|        0.4| Setosa|            0.0|\n",
      "|         4.6|        3.4|         1.4|        0.3| Setosa|            0.0|\n",
      "|         5.0|        3.4|         1.5|        0.2| Setosa|            0.0|\n",
      "|         4.4|        2.9|         1.4|        0.2| Setosa|            0.0|\n",
      "|         4.9|        3.1|         1.5|        0.1| Setosa|            0.0|\n",
      "|         5.4|        3.7|         1.5|        0.2| Setosa|            0.0|\n",
      "|         4.8|        3.4|         1.6|        0.2| Setosa|            0.0|\n",
      "|         4.8|        3.0|         1.4|        0.1| Setosa|            0.0|\n",
      "|         4.3|        3.0|         1.1|        0.1| Setosa|            0.0|\n",
      "|         5.8|        4.0|         1.2|        0.2| Setosa|            0.0|\n",
      "|         5.7|        4.4|         1.5|        0.4| Setosa|            0.0|\n",
      "|         5.4|        3.9|         1.3|        0.4| Setosa|            0.0|\n",
      "|         5.1|        3.5|         1.4|        0.3| Setosa|            0.0|\n",
      "|         5.7|        3.8|         1.7|        0.3| Setosa|            0.0|\n",
      "|         5.1|        3.8|         1.5|        0.3| Setosa|            0.0|\n",
      "+------------+-----------+------------+-----------+-------+---------------+\n",
      "only showing top 20 rows\n",
      "\n"
     ]
    }
   ],
   "source": [
    "indexdf.show()"
   ]
  },
  {
   "cell_type": "code",
   "execution_count": 55,
   "metadata": {},
   "outputs": [
    {
     "name": "stdout",
     "output_type": "stream",
     "text": [
      "+------------+-----------+------------+-----------+-------+---------------+--------------+\n",
      "|sepal_length|sepal_width|petal_length|petal_width|variety|indexed_variety|onehot_variety|\n",
      "+------------+-----------+------------+-----------+-------+---------------+--------------+\n",
      "|         5.1|        3.5|         1.4|        0.2| Setosa|            0.0| (2,[0],[1.0])|\n",
      "|         4.9|        3.0|         1.4|        0.2| Setosa|            0.0| (2,[0],[1.0])|\n",
      "|         4.7|        3.2|         1.3|        0.2| Setosa|            0.0| (2,[0],[1.0])|\n",
      "|         4.6|        3.1|         1.5|        0.2| Setosa|            0.0| (2,[0],[1.0])|\n",
      "|         5.0|        3.6|         1.4|        0.2| Setosa|            0.0| (2,[0],[1.0])|\n",
      "|         5.4|        3.9|         1.7|        0.4| Setosa|            0.0| (2,[0],[1.0])|\n",
      "|         4.6|        3.4|         1.4|        0.3| Setosa|            0.0| (2,[0],[1.0])|\n",
      "|         5.0|        3.4|         1.5|        0.2| Setosa|            0.0| (2,[0],[1.0])|\n",
      "|         4.4|        2.9|         1.4|        0.2| Setosa|            0.0| (2,[0],[1.0])|\n",
      "|         4.9|        3.1|         1.5|        0.1| Setosa|            0.0| (2,[0],[1.0])|\n",
      "|         5.4|        3.7|         1.5|        0.2| Setosa|            0.0| (2,[0],[1.0])|\n",
      "|         4.8|        3.4|         1.6|        0.2| Setosa|            0.0| (2,[0],[1.0])|\n",
      "|         4.8|        3.0|         1.4|        0.1| Setosa|            0.0| (2,[0],[1.0])|\n",
      "|         4.3|        3.0|         1.1|        0.1| Setosa|            0.0| (2,[0],[1.0])|\n",
      "|         5.8|        4.0|         1.2|        0.2| Setosa|            0.0| (2,[0],[1.0])|\n",
      "|         5.7|        4.4|         1.5|        0.4| Setosa|            0.0| (2,[0],[1.0])|\n",
      "|         5.4|        3.9|         1.3|        0.4| Setosa|            0.0| (2,[0],[1.0])|\n",
      "|         5.1|        3.5|         1.4|        0.3| Setosa|            0.0| (2,[0],[1.0])|\n",
      "|         5.7|        3.8|         1.7|        0.3| Setosa|            0.0| (2,[0],[1.0])|\n",
      "|         5.1|        3.8|         1.5|        0.3| Setosa|            0.0| (2,[0],[1.0])|\n",
      "+------------+-----------+------------+-----------+-------+---------------+--------------+\n",
      "only showing top 20 rows\n",
      "\n"
     ]
    }
   ],
   "source": [
    "encoder = OneHotEncoder(inputCol=\"indexed_variety\",outputCol=\"onehot_variety\")\n",
    "encoded_model = encoder.fit(indexdf)\n",
    "encoded_df = encoded_model.transform(indexdf)\n",
    "encoded_df.show()"
   ]
  },
  {
   "cell_type": "code",
   "execution_count": 56,
   "metadata": {},
   "outputs": [],
   "source": [
    "from pyspark.ml.feature import VectorAssembler"
   ]
  },
  {
   "cell_type": "code",
   "execution_count": 57,
   "metadata": {},
   "outputs": [
    {
     "data": {
      "text/plain": [
       "['sepal_length',\n",
       " 'sepal_width',\n",
       " 'petal_length',\n",
       " 'petal_width',\n",
       " 'variety',\n",
       " 'indexed_variety',\n",
       " 'onehot_variety']"
      ]
     },
     "execution_count": 57,
     "metadata": {},
     "output_type": "execute_result"
    }
   ],
   "source": [
    "encoded_df.columns"
   ]
  },
  {
   "cell_type": "code",
   "execution_count": 60,
   "metadata": {},
   "outputs": [],
   "source": [
    "assembler = VectorAssembler(inputCols=['sepal_length',\n",
    "                                       'sepal_width',\n",
    "                                       'petal_length',\n",
    "                                       'petal_width'],outputCol=\"features\")"
   ]
  },
  {
   "cell_type": "code",
   "execution_count": 61,
   "metadata": {},
   "outputs": [
    {
     "name": "stdout",
     "output_type": "stream",
     "text": [
      "+------------+-----------+------------+-----------+-------+---------------+--------------+-----------------+\n",
      "|sepal_length|sepal_width|petal_length|petal_width|variety|indexed_variety|onehot_variety|         features|\n",
      "+------------+-----------+------------+-----------+-------+---------------+--------------+-----------------+\n",
      "|         5.1|        3.5|         1.4|        0.2| Setosa|            0.0| (2,[0],[1.0])|[5.1,3.5,1.4,0.2]|\n",
      "|         4.9|        3.0|         1.4|        0.2| Setosa|            0.0| (2,[0],[1.0])|[4.9,3.0,1.4,0.2]|\n",
      "|         4.7|        3.2|         1.3|        0.2| Setosa|            0.0| (2,[0],[1.0])|[4.7,3.2,1.3,0.2]|\n",
      "|         4.6|        3.1|         1.5|        0.2| Setosa|            0.0| (2,[0],[1.0])|[4.6,3.1,1.5,0.2]|\n",
      "|         5.0|        3.6|         1.4|        0.2| Setosa|            0.0| (2,[0],[1.0])|[5.0,3.6,1.4,0.2]|\n",
      "|         5.4|        3.9|         1.7|        0.4| Setosa|            0.0| (2,[0],[1.0])|[5.4,3.9,1.7,0.4]|\n",
      "|         4.6|        3.4|         1.4|        0.3| Setosa|            0.0| (2,[0],[1.0])|[4.6,3.4,1.4,0.3]|\n",
      "|         5.0|        3.4|         1.5|        0.2| Setosa|            0.0| (2,[0],[1.0])|[5.0,3.4,1.5,0.2]|\n",
      "|         4.4|        2.9|         1.4|        0.2| Setosa|            0.0| (2,[0],[1.0])|[4.4,2.9,1.4,0.2]|\n",
      "|         4.9|        3.1|         1.5|        0.1| Setosa|            0.0| (2,[0],[1.0])|[4.9,3.1,1.5,0.1]|\n",
      "|         5.4|        3.7|         1.5|        0.2| Setosa|            0.0| (2,[0],[1.0])|[5.4,3.7,1.5,0.2]|\n",
      "|         4.8|        3.4|         1.6|        0.2| Setosa|            0.0| (2,[0],[1.0])|[4.8,3.4,1.6,0.2]|\n",
      "|         4.8|        3.0|         1.4|        0.1| Setosa|            0.0| (2,[0],[1.0])|[4.8,3.0,1.4,0.1]|\n",
      "|         4.3|        3.0|         1.1|        0.1| Setosa|            0.0| (2,[0],[1.0])|[4.3,3.0,1.1,0.1]|\n",
      "|         5.8|        4.0|         1.2|        0.2| Setosa|            0.0| (2,[0],[1.0])|[5.8,4.0,1.2,0.2]|\n",
      "|         5.7|        4.4|         1.5|        0.4| Setosa|            0.0| (2,[0],[1.0])|[5.7,4.4,1.5,0.4]|\n",
      "|         5.4|        3.9|         1.3|        0.4| Setosa|            0.0| (2,[0],[1.0])|[5.4,3.9,1.3,0.4]|\n",
      "|         5.1|        3.5|         1.4|        0.3| Setosa|            0.0| (2,[0],[1.0])|[5.1,3.5,1.4,0.3]|\n",
      "|         5.7|        3.8|         1.7|        0.3| Setosa|            0.0| (2,[0],[1.0])|[5.7,3.8,1.7,0.3]|\n",
      "|         5.1|        3.8|         1.5|        0.3| Setosa|            0.0| (2,[0],[1.0])|[5.1,3.8,1.5,0.3]|\n",
      "+------------+-----------+------------+-----------+-------+---------------+--------------+-----------------+\n",
      "only showing top 20 rows\n",
      "\n"
     ]
    }
   ],
   "source": [
    "assembled_df = assembler.transform(encoded_df)\n",
    "assembled_df.show()"
   ]
  },
  {
   "cell_type": "code",
   "execution_count": 62,
   "metadata": {},
   "outputs": [
    {
     "name": "stdout",
     "output_type": "stream",
     "text": [
      "+---------------+-----------------+\n",
      "|indexed_variety|         features|\n",
      "+---------------+-----------------+\n",
      "|            0.0|[5.1,3.5,1.4,0.2]|\n",
      "|            0.0|[4.9,3.0,1.4,0.2]|\n",
      "|            0.0|[4.7,3.2,1.3,0.2]|\n",
      "|            0.0|[4.6,3.1,1.5,0.2]|\n",
      "|            0.0|[5.0,3.6,1.4,0.2]|\n",
      "|            0.0|[5.4,3.9,1.7,0.4]|\n",
      "|            0.0|[4.6,3.4,1.4,0.3]|\n",
      "|            0.0|[5.0,3.4,1.5,0.2]|\n",
      "|            0.0|[4.4,2.9,1.4,0.2]|\n",
      "|            0.0|[4.9,3.1,1.5,0.1]|\n",
      "|            0.0|[5.4,3.7,1.5,0.2]|\n",
      "|            0.0|[4.8,3.4,1.6,0.2]|\n",
      "|            0.0|[4.8,3.0,1.4,0.1]|\n",
      "|            0.0|[4.3,3.0,1.1,0.1]|\n",
      "|            0.0|[5.8,4.0,1.2,0.2]|\n",
      "|            0.0|[5.7,4.4,1.5,0.4]|\n",
      "|            0.0|[5.4,3.9,1.3,0.4]|\n",
      "|            0.0|[5.1,3.5,1.4,0.3]|\n",
      "|            0.0|[5.7,3.8,1.7,0.3]|\n",
      "|            0.0|[5.1,3.8,1.5,0.3]|\n",
      "+---------------+-----------------+\n",
      "only showing top 20 rows\n",
      "\n"
     ]
    }
   ],
   "source": [
    "assembled_df.select('indexed_variety','features').show()"
   ]
  },
  {
   "cell_type": "code",
   "execution_count": 63,
   "metadata": {},
   "outputs": [],
   "source": [
    "final_df = assembled_df.select('indexed_variety','features')"
   ]
  },
  {
   "cell_type": "code",
   "execution_count": 64,
   "metadata": {},
   "outputs": [],
   "source": [
    "train_data, test_data = final_df.randomSplit([0.8,0.2])"
   ]
  },
  {
   "cell_type": "code",
   "execution_count": 65,
   "metadata": {},
   "outputs": [
    {
     "data": {
      "text/plain": [
       "(118, 32)"
      ]
     },
     "execution_count": 65,
     "metadata": {},
     "output_type": "execute_result"
    }
   ],
   "source": [
    "train_data.count(), test_data.count()"
   ]
  },
  {
   "cell_type": "code",
   "execution_count": 66,
   "metadata": {},
   "outputs": [],
   "source": [
    "from pyspark.ml.classification import DecisionTreeClassifier\n",
    "from pyspark.ml.evaluation import MulticlassClassificationEvaluator"
   ]
  },
  {
   "cell_type": "code",
   "execution_count": 67,
   "metadata": {},
   "outputs": [],
   "source": [
    "df_classifier = DecisionTreeClassifier(labelCol=\"indexed_variety\").fit(train_data)"
   ]
  },
  {
   "cell_type": "code",
   "execution_count": 69,
   "metadata": {},
   "outputs": [
    {
     "name": "stdout",
     "output_type": "stream",
     "text": [
      "+---------------+-----------------+--------------+-------------+----------+\n",
      "|indexed_variety|         features| rawPrediction|  probability|prediction|\n",
      "+---------------+-----------------+--------------+-------------+----------+\n",
      "|            0.0|[4.7,3.2,1.3,0.2]|[37.0,0.0,0.0]|[1.0,0.0,0.0]|       0.0|\n",
      "|            0.0|[4.8,3.0,1.4,0.3]|[37.0,0.0,0.0]|[1.0,0.0,0.0]|       0.0|\n",
      "|            0.0|[4.9,3.1,1.5,0.2]|[37.0,0.0,0.0]|[1.0,0.0,0.0]|       0.0|\n",
      "|            0.0|[5.0,3.3,1.4,0.2]|[37.0,0.0,0.0]|[1.0,0.0,0.0]|       0.0|\n",
      "|            0.0|[5.0,3.6,1.4,0.2]|[37.0,0.0,0.0]|[1.0,0.0,0.0]|       0.0|\n",
      "|            0.0|[5.1,3.4,1.5,0.2]|[37.0,0.0,0.0]|[1.0,0.0,0.0]|       0.0|\n",
      "|            0.0|[5.1,3.8,1.5,0.3]|[37.0,0.0,0.0]|[1.0,0.0,0.0]|       0.0|\n",
      "|            0.0|[5.1,3.8,1.9,0.4]|[37.0,0.0,0.0]|[1.0,0.0,0.0]|       0.0|\n",
      "|            0.0|[5.2,3.4,1.4,0.2]|[37.0,0.0,0.0]|[1.0,0.0,0.0]|       0.0|\n",
      "|            0.0|[5.4,3.4,1.5,0.4]|[37.0,0.0,0.0]|[1.0,0.0,0.0]|       0.0|\n",
      "|            0.0|[5.5,3.5,1.3,0.2]|[37.0,0.0,0.0]|[1.0,0.0,0.0]|       0.0|\n",
      "|            0.0|[5.5,4.2,1.4,0.2]|[37.0,0.0,0.0]|[1.0,0.0,0.0]|       0.0|\n",
      "|            0.0|[5.8,4.0,1.2,0.2]|[37.0,0.0,0.0]|[1.0,0.0,0.0]|       0.0|\n",
      "|            1.0|[5.1,2.5,3.0,1.1]|[0.0,39.0,0.0]|[0.0,1.0,0.0]|       1.0|\n",
      "|            1.0|[5.6,2.7,4.2,1.3]|[0.0,39.0,0.0]|[0.0,1.0,0.0]|       1.0|\n",
      "|            1.0|[5.7,2.6,3.5,1.0]|[0.0,39.0,0.0]|[0.0,1.0,0.0]|       1.0|\n",
      "|            1.0|[5.7,3.0,4.2,1.2]|[0.0,39.0,0.0]|[0.0,1.0,0.0]|       1.0|\n",
      "|            1.0|[5.8,2.6,4.0,1.2]|[0.0,39.0,0.0]|[0.0,1.0,0.0]|       1.0|\n",
      "|            1.0|[5.8,2.7,4.1,1.0]|[0.0,39.0,0.0]|[0.0,1.0,0.0]|       1.0|\n",
      "|            1.0|[5.9,3.2,4.8,1.8]|[0.0,0.0,38.0]|[0.0,0.0,1.0]|       2.0|\n",
      "+---------------+-----------------+--------------+-------------+----------+\n",
      "only showing top 20 rows\n",
      "\n"
     ]
    }
   ],
   "source": [
    "df_pred = df_classifier.transform(test_data)\n",
    "df_pred.show()"
   ]
  },
  {
   "cell_type": "code",
   "execution_count": 76,
   "metadata": {},
   "outputs": [],
   "source": [
    "accruacy = MulticlassClassificationEvaluator(labelCol=\"indexed_variety\",\n",
    "                                             metricName=\"accuracy\").evaluate(df_pred)\n",
    "\n",
    "precision = MulticlassClassificationEvaluator(labelCol=\"indexed_variety\",\n",
    "                                             metricName=\"weightedPrecision\").evaluate(df_pred)"
   ]
  },
  {
   "cell_type": "code",
   "execution_count": 77,
   "metadata": {},
   "outputs": [
    {
     "data": {
      "text/plain": [
       "(0.90625, 0.9090277777777778)"
      ]
     },
     "execution_count": 77,
     "metadata": {},
     "output_type": "execute_result"
    }
   ],
   "source": [
    "accruacy,precision"
   ]
  },
  {
   "cell_type": "code",
   "execution_count": 78,
   "metadata": {},
   "outputs": [
    {
     "data": {
      "text/plain": [
       "SparseVector(4, {2: 0.5367, 3: 0.4633})"
      ]
     },
     "execution_count": 78,
     "metadata": {},
     "output_type": "execute_result"
    }
   ],
   "source": [
    "df_classifier.featureImportances"
   ]
  },
  {
   "cell_type": "code",
   "execution_count": 79,
   "metadata": {},
   "outputs": [],
   "source": [
    "auc = MulticlassClassificationEvaluator(labelCol=\"indexed_variety\").evaluate(df_pred)"
   ]
  },
  {
   "cell_type": "code",
   "execution_count": 80,
   "metadata": {},
   "outputs": [
    {
     "data": {
      "text/plain": [
       "0.90625"
      ]
     },
     "execution_count": 80,
     "metadata": {},
     "output_type": "execute_result"
    }
   ],
   "source": [
    "auc"
   ]
  }
 ],
 "metadata": {
  "kernelspec": {
   "display_name": "newenv",
   "language": "python",
   "name": "python3"
  },
  "language_info": {
   "codemirror_mode": {
    "name": "ipython",
    "version": 3
   },
   "file_extension": ".py",
   "mimetype": "text/x-python",
   "name": "python",
   "nbconvert_exporter": "python",
   "pygments_lexer": "ipython3",
   "version": "3.12.3"
  }
 },
 "nbformat": 4,
 "nbformat_minor": 2
}
